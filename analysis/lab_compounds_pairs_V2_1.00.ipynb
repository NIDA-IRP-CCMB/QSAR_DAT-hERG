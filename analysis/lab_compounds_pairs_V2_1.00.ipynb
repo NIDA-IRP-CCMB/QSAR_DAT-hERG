{
 "cells": [
  {
   "cell_type": "code",
   "execution_count": 1,
   "metadata": {},
   "outputs": [],
   "source": [
    "import os,sys\n",
    "import pathlib\n",
    "project_path = pathlib.Path('~/repositories/herg')\n",
    "project_path = project_path.expanduser()\n",
    "code_dir = project_path / 'common'\n",
    "sys.path.insert(0, str(code_dir))\n",
    "import numpy as np\n",
    "import pandas as pd\n",
    "import matplotlib.pyplot as plt\n",
    "%matplotlib inline\n",
    "#%pylab inline\n",
    "import pickle\n",
    "from rdkit.Chem import AllChem as Chem\n",
    "from rdkit.Chem.Pharm2D import Gobbi_Pharm2D, Generate\n",
    "from rdkit import DataStructs\n",
    "from rdkit.Chem.Fingerprints import FingerprintMols\n",
    "from molvs import Standardizer\n",
    "from miscellaneous import *\n",
    "from predict_functions import *\n",
    "from descriptor_setup import dnames, dlist\n",
    "from statistics import mean, stdev\n",
    "from build_functions import MSE,R2,RMSE\n",
    "\n",
    "\n",
    "## 50 models\n",
    "# random_splits = [42, 77, 301, 212, 617, 781, 505, 22, 365, 993, \\\n",
    "#                  925, 983, 649, 140, 527, 815, 573, 142, 556, 800, \\\n",
    "#                  652, 965, 933, 284, 135, 81, 872, 943, 541, 76, \\\n",
    "#                  139, 976, 600, 125, 679, 728, 764, 969, 334, 449,\\\n",
    "#                  623, 229, 864, 239, 873, 549, 215, 791, 716, 11]\n",
    "\n",
    "\n",
    "\n",
    "## \n",
    "## random_splits = [42, 77]\n",
    "random_splits = [42]\n",
    "\n",
    "## testing dataset\n",
    "data_dir=\"/home/khlee/cheminformatics/screening/data\"\n",
    "basefile = \"testset_pairs\"\n"
   ]
  },
  {
   "cell_type": "code",
   "execution_count": 2,
   "metadata": {},
   "outputs": [
    {
     "name": "stdout",
     "output_type": "stream",
     "text": [
      "setting modeldir to  /home/khlee/cheminformatics/hERG/regression_1.00 .\n",
      "Have you set the random splits to be correct for the model?\n",
      "No molecules rejected for prediction by AD\n",
      "significant_bits: 1917\n",
      "fp_descriptors: (19, 1917)\n",
      "Summary Results\n",
      "Compound\tPredicted\tStdDev\n",
      "Modafinil \t 4.734 \t 0.000\n",
      "JBG1-48 \t 4.469 \t 0.000\n",
      "JBG2-54 \t 6.364 \t 0.000\n",
      "JBG2-56 \t 5.868 \t 0.000\n",
      "JJC8-016 \t 7.006 \t 0.000\n",
      "JJC8-088 \t 6.846 \t 0.000\n",
      "JJC8-089 \t 6.536 \t 0.000\n",
      "JJC8-091 \t 5.327 \t 0.000\n",
      "RDS03-094 \t 6.402 \t 0.000\n",
      "RDS04-010 \t 5.473 \t 0.000\n",
      "RDS04-011 \t 6.808 \t 0.000\n",
      "TCK-1-49 \t 6.643 \t 0.000\n",
      "TCK-1-74 \t 5.784 \t 0.000\n",
      "TCK-1-76 \t 6.005 \t 0.000\n",
      "TCK-2-22 \t 5.714 \t 0.000\n",
      "TCK-2-34 \t 5.448 \t 0.000\n",
      "TCK-2-40 \t 5.519 \t 0.000\n",
      "TCK-2-43 \t 5.659 \t 0.000\n",
      "TCK-2-80 \t 5.287 \t 0.000\n",
      "setting modeldir to  /home/khlee/cheminformatics/DAT/aDAT_regression_100 .\n",
      "Have you set the random splits to be correct for the model?\n",
      "No molecules rejected for prediction by AD\n",
      "significant_bits: 471\n",
      "fp_descriptors: (19, 471)\n",
      "Summary Results\n",
      "Compound\tPredicted\tStdDev\n",
      "Modafinil \t 5.823 \t 0.000\n",
      "JBG1-48 \t 5.444 \t 0.000\n",
      "JBG2-54 \t 7.411 \t 0.000\n",
      "JBG2-56 \t 5.909 \t 0.000\n",
      "JJC8-016 \t 6.373 \t 0.000\n",
      "JJC8-088 \t 7.442 \t 0.000\n",
      "JJC8-089 \t 7.571 \t 0.000\n",
      "JJC8-091 \t 7.311 \t 0.000\n",
      "RDS03-094 \t 7.812 \t 0.000\n",
      "RDS04-010 \t 6.724 \t 0.000\n",
      "RDS04-011 \t 7.174 \t 0.000\n",
      "TCK-1-49 \t 6.899 \t 0.000\n",
      "TCK-1-74 \t 6.650 \t 0.000\n",
      "TCK-1-76 \t 6.826 \t 0.000\n",
      "TCK-2-22 \t 6.361 \t 0.000\n",
      "TCK-2-34 \t 5.938 \t 0.000\n",
      "TCK-2-40 \t 6.664 \t 0.000\n",
      "TCK-2-43 \t 6.645 \t 0.000\n",
      "TCK-2-80 \t 6.343 \t 0.000\n"
     ]
    }
   ],
   "source": [
    "\n",
    "##  hERG regression model\n",
    "\n",
    "## the model used for prediction\n",
    "model_dir=\"/home/khlee/cheminformatics/hERG/regression_1.00\"\n",
    "result_list = []\n",
    "\n",
    "for random_split in random_splits:\n",
    "    #print(\"split: \", random_split)\n",
    "    input_data = read_mols(basefile, random_split,datadir=data_dir,modeldir=model_dir)\n",
    "    molnames = input_data['molnames']\n",
    "    molecules = input_data['molecules']\n",
    "    model = input_data['model']\n",
    "    inds = input_data['inds']\n",
    "    sigbits = input_data['sigbits']\n",
    "    ad_fps = input_data['ad_fps']\n",
    "    ad_radius = input_data['ad_radius']\n",
    "    # Check Applicability Domain\n",
    "    appdom_results = check_appdom(ad_fps, ad_radius, molecules, molnames)\n",
    "    molecules = appdom_results['test_mols']\n",
    "    molnames = appdom_results['test_names']\n",
    "    molecules_rej = appdom_results['rej_mols']\n",
    "    molnames_rej = appdom_results['rej_names']\n",
    "    topo_descriptors = calc_topo_descs(molecules, inds)\n",
    "    phore_descriptors = calc_phore_descs(molecules, sigbits)\n",
    "    # Combine all selected descriptors into one matrix\n",
    "    descriptors = np.concatenate((topo_descriptors, phore_descriptors), axis=1)\n",
    "    pred_results = make_preds(molnames, descriptors, model, random_split)\n",
    "    results = pred_results['predictions']\n",
    "    result_list.append(results)\n",
    "\n",
    "## final results\n",
    "hERG_compound, hERG_pred, hERG_pred_error=summarize_preds(molnames, result_list)\n",
    "\n",
    "\n",
    "\n",
    "##  hDAT regression model\n",
    "#model_dir=\"/home/khlee/cheminformatics/DAT/regression_1.00\"\n",
    "model_dir=\"/home/khlee/cheminformatics/DAT/aDAT_regression_100\"\n",
    "# model_dir=\"/home/khlee/cheminformatics/DAT/hDAT_regression_100\"\n",
    "# model_dir=\"/home/khlee/cheminformatics/DAT/rDAT_regression_100\"\n",
    "\n",
    "result_list = []\n",
    "\n",
    "for random_split in random_splits:\n",
    "    #print(\"split: \", random_split)\n",
    "    input_data = read_mols(basefile, random_split,datadir=data_dir,modeldir=model_dir)\n",
    "    molnames = input_data['molnames']\n",
    "    molecules = input_data['molecules']\n",
    "    model = input_data['model']\n",
    "    inds = input_data['inds']\n",
    "    sigbits = input_data['sigbits']\n",
    "    ad_fps = input_data['ad_fps']\n",
    "    ad_radius = input_data['ad_radius']\n",
    "    # Check Applicability Domain\n",
    "    appdom_results = check_appdom(ad_fps, ad_radius, molecules, molnames)\n",
    "    molecules = appdom_results['test_mols']\n",
    "    molnames = appdom_results['test_names']\n",
    "    molecules_rej = appdom_results['rej_mols']\n",
    "    molnames_rej = appdom_results['rej_names']\n",
    "    topo_descriptors = calc_topo_descs(molecules, inds)\n",
    "    phore_descriptors = calc_phore_descs(molecules, sigbits)\n",
    "    # Combine all selected descriptors into one matrix\n",
    "    descriptors = np.concatenate((topo_descriptors, phore_descriptors), axis=1)\n",
    "    pred_results = make_preds(molnames, descriptors, model, random_split)\n",
    "    results = pred_results['predictions']\n",
    "    result_list.append(results)\n",
    "\n",
    "## final results\n",
    "hDAT_compound, hDAT_pred, hDAT_pred_error=summarize_preds(molnames, result_list)\n"
   ]
  },
  {
   "cell_type": "code",
   "execution_count": 3,
   "metadata": {},
   "outputs": [
    {
     "name": "stdout",
     "output_type": "stream",
     "text": [
      "42\n",
      "setting modeldir to  /home/khlee/cheminformatics/hERG/classifier_1.00 .\n",
      "Have you set the random splits to be correct for the model?\n"
     ]
    },
    {
     "name": "stderr",
     "output_type": "stream",
     "text": [
      "/share/apps/python/anaconda3-2020.02/lib/python3.7/site-packages/sklearn/base.py:334: UserWarning: Trying to unpickle estimator DecisionTreeClassifier from version 0.23.1 when using version 0.23.2. This might lead to breaking code or invalid results. Use at your own risk.\n",
      "  UserWarning)\n",
      "/share/apps/python/anaconda3-2020.02/lib/python3.7/site-packages/sklearn/base.py:334: UserWarning: Trying to unpickle estimator RandomForestClassifier from version 0.23.1 when using version 0.23.2. This might lead to breaking code or invalid results. Use at your own risk.\n",
      "  UserWarning)\n"
     ]
    },
    {
     "name": "stdout",
     "output_type": "stream",
     "text": [
      "No molecules rejected for prediction by AD\n",
      "Molecule\tPredicted Act.\n",
      "Modafinil \t 0\n",
      "JBG1-48 \t 0\n",
      "JBG2-54 \t 1\n",
      "JBG2-56 \t 1\n",
      "JJC8-016 \t 1\n",
      "JJC8-088 \t 1\n",
      "JJC8-089 \t 1\n",
      "JJC8-091 \t 1\n",
      "RDS03-094 \t 1\n",
      "RDS04-010 \t 1\n",
      "RDS04-011 \t 1\n",
      "TCK-1-49 \t 1\n",
      "TCK-1-74 \t 1\n",
      "TCK-1-76 \t 1\n",
      "TCK-2-22 \t 1\n",
      "TCK-2-34 \t 1\n",
      "TCK-2-40 \t 1\n",
      "TCK-2-43 \t 1\n",
      "TCK-2-80 \t 1\n",
      "42\n",
      "setting modeldir to  /home/khlee/cheminformatics/DAT/classifier_1.00 .\n",
      "Have you set the random splits to be correct for the model?\n"
     ]
    },
    {
     "name": "stderr",
     "output_type": "stream",
     "text": [
      "/share/apps/python/anaconda3-2020.02/lib/python3.7/site-packages/sklearn/base.py:334: UserWarning: Trying to unpickle estimator DecisionTreeClassifier from version 0.23.1 when using version 0.23.2. This might lead to breaking code or invalid results. Use at your own risk.\n",
      "  UserWarning)\n",
      "/share/apps/python/anaconda3-2020.02/lib/python3.7/site-packages/sklearn/base.py:334: UserWarning: Trying to unpickle estimator RandomForestClassifier from version 0.23.1 when using version 0.23.2. This might lead to breaking code or invalid results. Use at your own risk.\n",
      "  UserWarning)\n"
     ]
    },
    {
     "name": "stdout",
     "output_type": "stream",
     "text": [
      "No molecules rejected for prediction by AD\n",
      "Molecule\tPredicted Act.\n",
      "Modafinil \t 0\n",
      "JBG1-48 \t 0\n",
      "JBG2-54 \t 1\n",
      "JBG2-56 \t 1\n",
      "JJC8-016 \t 1\n",
      "JJC8-088 \t 1\n",
      "JJC8-089 \t 1\n",
      "JJC8-091 \t 1\n",
      "RDS03-094 \t 1\n",
      "RDS04-010 \t 1\n",
      "RDS04-011 \t 1\n",
      "TCK-1-49 \t 1\n",
      "TCK-1-74 \t 1\n",
      "TCK-1-76 \t 1\n",
      "TCK-2-22 \t 1\n",
      "TCK-2-34 \t 1\n",
      "TCK-2-40 \t 1\n",
      "TCK-2-43 \t 1\n",
      "TCK-2-80 \t 1\n"
     ]
    }
   ],
   "source": [
    "from runmodel import read_mols, calc_descs, make_preds, check_appdom\n",
    "\n",
    "## hERG classifier\n",
    "model_dir=\"/home/khlee/cheminformatics/hERG/classifier_1.00\"\n",
    "\n",
    "ls_predictions = []\n",
    "\n",
    "for random_split in random_splits:\n",
    "    print(random_split)\n",
    "    model_data = read_mols(basefile, random_split, 301,datadir=data_dir,modeldir=model_dir)\n",
    "    molnames = model_data['molnames']\n",
    "    molecules = model_data['molecules']\n",
    "    model = model_data['model']\n",
    "    inds = model_data['inds']\n",
    "    ad_fps = model_data['ad_fps']\n",
    "    ad_radius = model_data['ad_radius']\n",
    "    # scheme A, know activity\n",
    "    #activities = model_data['activities']\n",
    "    #appdom_results = check_appdom(ad_fps, ad_radius, molecules, molnames, activities)\n",
    "    #test_mols = appdom_results['test_mols']\n",
    "    #test_names = appdom_results['test_names']\n",
    "    #rej_mols = appdom_results['rej_mols']\n",
    "    #rej_names = appdom_results['rej_names']\n",
    "    #test_acts = appdom_results['test_acts']\n",
    "    #rej_acts = appdom_results['rej_acts']\n",
    "    # end scheme A\n",
    "    # scheme B, unknow activity\n",
    "    appdom_results = check_appdom(ad_fps, ad_radius, molecules, molnames)\n",
    "    test_mols = appdom_results['test_mols']\n",
    "    test_names = appdom_results['test_names']\n",
    "    rej_mols = appdom_results['rej_mols']\n",
    "    rej_names = appdom_results['rej_names'] \n",
    "    # end scheme B\n",
    "    descriptors = calc_descs(test_mols, inds)\n",
    "    #A = make_preds(test_names, descriptors, model, test_acts)\n",
    "    A=make_preds(test_names, descriptors, model)\n",
    "    #ls_accuracy.append(A['accuracy'])\n",
    "    ls_predictions.append(A['predictions'])\n",
    "\n",
    "hERG_classifier = ls_predictions\n",
    "\n",
    "\n",
    "\n",
    "\n",
    "## hDAT classifier\n",
    "model_dir=\"/home/khlee/cheminformatics/DAT/classifier_1.00\"\n",
    "\n",
    "ls_predictions = []\n",
    "\n",
    "for random_split in random_splits:\n",
    "    print(random_split)\n",
    "    model_data = read_mols(basefile, random_split, 301,datadir=data_dir,modeldir=model_dir)\n",
    "    molnames = model_data['molnames']\n",
    "    molecules = model_data['molecules']\n",
    "    model = model_data['model']\n",
    "    inds = model_data['inds']\n",
    "    ad_fps = model_data['ad_fps']\n",
    "    ad_radius = model_data['ad_radius']\n",
    "    # scheme A, know activity\n",
    "    #activities = model_data['activities']\n",
    "    #appdom_results = check_appdom(ad_fps, ad_radius, molecules, molnames, activities)\n",
    "    #test_mols = appdom_results['test_mols']\n",
    "    #test_names = appdom_results['test_names']\n",
    "    #rej_mols = appdom_results['rej_mols']\n",
    "    #rej_names = appdom_results['rej_names']\n",
    "    #test_acts = appdom_results['test_acts']\n",
    "    #rej_acts = appdom_results['rej_acts']\n",
    "    # end scheme A\n",
    "    # scheme B, unknow activity\n",
    "    appdom_results = check_appdom(ad_fps, ad_radius, molecules, molnames)\n",
    "    test_mols = appdom_results['test_mols']\n",
    "    test_names = appdom_results['test_names']\n",
    "    rej_mols = appdom_results['rej_mols']\n",
    "    rej_names = appdom_results['rej_names'] \n",
    "    # end scheme B\n",
    "    descriptors = calc_descs(test_mols, inds)\n",
    "    #A = make_preds(test_names, descriptors, model, test_acts)\n",
    "    A=make_preds(test_names, descriptors, model)\n",
    "    #ls_accuracy.append(A['accuracy'])\n",
    "    ls_predictions.append(A['predictions'])\n",
    "\n",
    "hDAT_classifier = ls_predictions"
   ]
  },
  {
   "cell_type": "code",
   "execution_count": 4,
   "metadata": {},
   "outputs": [
    {
     "name": "stdout",
     "output_type": "stream",
     "text": [
      "Modafinil 0 Modafinil 4.7338486 0.0 Modafinil 0 Modafinil 5.8226485 0.0\n",
      "JBG1-48 0 JBG1-48 4.4688573 0.0 JBG1-48 0 JBG1-48 5.444496 0.0\n",
      "JBG2-54 1 JBG2-54 6.363579 0.0 JBG2-54 1 JBG2-54 7.4106946 0.0\n",
      "JBG2-56 1 JBG2-56 5.8681135 0.0 JBG2-56 1 JBG2-56 5.909403 0.0\n",
      "JJC8-016 1 JJC8-016 7.0057235 0.0 JJC8-016 1 JJC8-016 6.372788 0.0\n",
      "JJC8-088 1 JJC8-088 6.8461103 0.0 JJC8-088 1 JJC8-088 7.441824 0.0\n",
      "JJC8-089 1 JJC8-089 6.5360265 0.0 JJC8-089 1 JJC8-089 7.57096 0.0\n",
      "JJC8-091 1 JJC8-091 5.3268733 0.0 JJC8-091 1 JJC8-091 7.31057 0.0\n",
      "RDS03-094 1 RDS03-094 6.401981 0.0 RDS03-094 1 RDS03-094 7.811588 0.0\n",
      "RDS04-010 1 RDS04-010 5.4729996 0.0 RDS04-010 1 RDS04-010 6.724477 0.0\n",
      "RDS04-011 1 RDS04-011 6.808164 0.0 RDS04-011 1 RDS04-011 7.17353 0.0\n",
      "TCK-1-49 1 TCK-1-49 6.64338 0.0 TCK-1-49 1 TCK-1-49 6.8988657 0.0\n",
      "TCK-1-74 1 TCK-1-74 5.7836075 0.0 TCK-1-74 1 TCK-1-74 6.65018 0.0\n",
      "TCK-1-76 1 TCK-1-76 6.004908 0.0 TCK-1-76 1 TCK-1-76 6.826335 0.0\n",
      "TCK-2-22 1 TCK-2-22 5.7136908 0.0 TCK-2-22 1 TCK-2-22 6.360771 0.0\n",
      "TCK-2-34 1 TCK-2-34 5.448103 0.0 TCK-2-34 1 TCK-2-34 5.937802 0.0\n",
      "TCK-2-40 1 TCK-2-40 5.5188284 0.0 TCK-2-40 1 TCK-2-40 6.6636806 0.0\n",
      "TCK-2-43 1 TCK-2-43 5.65898 0.0 TCK-2-43 1 TCK-2-43 6.645039 0.0\n",
      "TCK-2-80 1 TCK-2-80 5.2873816 0.0 TCK-2-80 1 TCK-2-80 6.342601 0.0\n"
     ]
    }
   ],
   "source": [
    "## summary\n",
    "for icompound in range(len(test_names)):\n",
    "    isum_hERG=0\n",
    "    isum_hDAT=0\n",
    "    for i in range(len(random_splits)):\n",
    "        isum_hERG=isum_hERG + hERG_classifier[i][icompound]\n",
    "        isum_hDAT=isum_hDAT + hDAT_classifier[i][icompound]\n",
    "       # print(hERG_classifier[i][0],isum)\n",
    "    print(test_names[icompound],\\\n",
    "          isum_hERG,\\\n",
    "          hERG_compound[icompound], \\\n",
    "          hERG_pred[icompound], \\\n",
    "          hERG_pred_error[icompound],\\\n",
    "          test_names[icompound],\\\n",
    "          isum_hDAT,\\\n",
    "          hDAT_compound[icompound], \\\n",
    "          hDAT_pred[icompound], \\\n",
    "          hDAT_pred_error[icompound])\n",
    "    "
   ]
  },
  {
   "cell_type": "code",
   "execution_count": 5,
   "metadata": {},
   "outputs": [],
   "source": [
    "## read exp\n",
    "\n",
    "f = open(data_dir+'/testset_pairs_hDAT.act','r')\n",
    "lines=f.read().split('\\n')\n",
    "f.close()\n",
    "hDAT_idx=[]\n",
    "hDAT_act=[]\n",
    "hDAT_act_error=[]\n",
    "for line in lines:\n",
    "    if not line=='':\n",
    "        hDAT_idx.append(line.split()[0])\n",
    "        hDAT_act.append(float(line.split()[1]))\n",
    "        hDAT_act_error.append(float(line.split()[2]))\n",
    "\n",
    "\n",
    "f = open(data_dir+'/testset_pairs_hERG.act','r')\n",
    "lines=f.read().split('\\n')\n",
    "f.close()\n",
    "hERG_idx=[]\n",
    "hERG_act=[]\n",
    "hERG_act_error=[]\n",
    "for line in lines:\n",
    "    if not line=='':\n",
    "        hERG_idx.append(line.split()[0])\n",
    "        hERG_act.append(float(line.split()[1]))\n",
    "        hERG_act_error.append(float(line.split()[2]))\n",
    "\n"
   ]
  },
  {
   "cell_type": "code",
   "execution_count": 6,
   "metadata": {},
   "outputs": [
    {
     "name": "stdout",
     "output_type": "stream",
     "text": [
      "Populating the interactive namespace from numpy and matplotlib\n"
     ]
    },
    {
     "name": "stderr",
     "output_type": "stream",
     "text": [
      "/share/apps/python/anaconda3-2020.02/lib/python3.7/site-packages/IPython/core/magics/pylab.py:160: UserWarning: pylab import has clobbered these variables: ['mean', 'f']\n",
      "`%matplotlib` prevents importing * from pylab and numpy\n",
      "  \"\\n`%matplotlib` prevents importing * from pylab and numpy\"\n"
     ]
    },
    {
     "data": {
      "text/plain": [
       "Text(0.5, 1.05, '100% Traning Data')"
      ]
     },
     "execution_count": 6,
     "metadata": {},
     "output_type": "execute_result"
    },
    {
     "data": {
      "image/png": "[encoded data removed]",
      "text/plain": [
       "<Figure size 720x288 with 2 Axes>"
      ]
     },
     "metadata": {
      "needs_background": "light"
     },
     "output_type": "display_data"
    }
   ],
   "source": [
    "#%matplotlib inline\n",
    "%pylab inline\n",
    "\n",
    "# figure parameters\n",
    "nrow=1\n",
    "ncol=2\n",
    "figheight=4\n",
    "figwidth=10\n",
    "linewidth=1\n",
    "maxylim=8\n",
    "\n",
    "\n",
    "fig, (ax1, ax2) = plt.subplots(nrow, ncol,figsize=(figwidth,figheight))\n",
    "# make a little extra space between the subplots\n",
    "fig.subplots_adjust(hspace=1.5)\n",
    "\n",
    "    \n",
    "## hERG; c25\n",
    "x=hERG_act\n",
    "y=hERG_pred\n",
    "xerr=hERG_pred_error\n",
    "yerr=hERG_act_error\n",
    "ax1.errorbar(x, y, xerr, yerr, fmt='d',markersize='5',elinewidth=1)\n",
    "ax1.set_xlabel('Experimental pIC50', fontsize=16)\n",
    "ax1.set_ylabel('Predicted pIC50', fontsize=16)\n",
    "ax1.set_xlim(3.5, 9.5)\n",
    "ax1.set_ylim(3.5, 9.5)\n",
    "ax1.set_title('hERG', fontsize=16)\n",
    "\n",
    "\n",
    "## hDAT; c25\n",
    "x=hDAT_act\n",
    "y=hDAT_pred\n",
    "xerr=hDAT_pred_error\n",
    "yerr=hDAT_act_error\n",
    "ax2.errorbar(x, y, xerr, yerr, fmt='d',markersize='5',elinewidth=1)\n",
    "ax2.set_xlabel('Experimental pKi', fontsize=16)\n",
    "ax2.set_ylabel('Predicted pKi', fontsize=16)\n",
    "ax2.set_xlim(3.5, 9.5)\n",
    "ax2.set_ylim(3.5, 9.5)\n",
    "ax2.set_title('DAT', fontsize=16)\n",
    "\n",
    "fig.suptitle('100% Traning Data', y=1.05, fontsize=20)\n"
   ]
  },
  {
   "cell_type": "code",
   "execution_count": 10,
   "metadata": {},
   "outputs": [
    {
     "name": "stdout",
     "output_type": "stream",
     "text": [
      "\n",
      "\n",
      "Using NumPy fucntion (R^2)\n",
      "R2(np)   hERG act/pred:  0.9591487316000065\n",
      "R2(np)   hERG pred/act:  0.9591487316000065\n",
      "R2(np)   hDAT act/pred:  0.44752317838371614\n",
      "R2(np)   hDAT pred/act:  0.44752317838371614\n"
     ]
    }
   ],
   "source": [
    "## https://kite.com/python/answers/how-to-calculate-r-squared-with-numpy-in-python\n",
    "\n",
    "def r2_np(x_values,y_values):\n",
    "    correlation_matrix = np.corrcoef(x_values, y_values)\n",
    "    correlation_xy = correlation_matrix[0,1]\n",
    "    r_squared = correlation_xy**2\n",
    "    return(r_squared)\n",
    "\n",
    "\n",
    "print(\"\\n\\nUsing NumPy fucntion (R^2)\")\n",
    "print(\"R2(np)   hERG act/pred: \",r2_np(hERG_act,hERG_pred))\n",
    "print(\"R2(np)   hERG pred/act: \",r2_np(hERG_pred,hERG_act))\n",
    "print(\"R2(np)   hDAT act/pred: \",r2_np(hDAT_act,hDAT_pred))\n",
    "print(\"R2(np)   hDAT pred/act: \",r2_np(hDAT_pred,hDAT_act))"
   ]
  },
  {
   "cell_type": "code",
   "execution_count": 11,
   "metadata": {},
   "outputs": [
    {
     "name": "stdout",
     "output_type": "stream",
     "text": [
      "\n",
      "\n",
      "Using NumPy fucntion (R)\n",
      "R2(np)   hERG act/pred:  0.9793613896820756\n",
      "R2(np)   hERG pred/act:  0.9793613896820756\n",
      "R2(np)   hDAT act/pred:  0.6689717321260414\n",
      "R2(np)   hDAT pred/act:  0.6689717321260414\n"
     ]
    }
   ],
   "source": [
    "def r_np(x_values,y_values):\n",
    "    correlation_matrix = np.corrcoef(x_values, y_values)\n",
    "    correlation_xy = correlation_matrix[0,1]\n",
    "    #r_squared = correlation_xy**2\n",
    "    return(correlation_xy)\n",
    "\n",
    "\n",
    "print(\"\\n\\nUsing NumPy fucntion (R)\")\n",
    "print(\"R2(np)   hERG act/pred: \",r_np(hERG_act,hERG_pred))\n",
    "print(\"R2(np)   hERG pred/act: \",r_np(hERG_pred,hERG_act))\n",
    "print(\"R2(np)   hDAT act/pred: \",r_np(hDAT_act,hDAT_pred))\n",
    "print(\"R2(np)   hDAT pred/act: \",r_np(hDAT_pred,hDAT_act))\n",
    "\n"
   ]
  },
  {
   "cell_type": "code",
   "execution_count": 7,
   "metadata": {},
   "outputs": [],
   "source": [
    "from sklearn.metrics import roc_auc_score, r2_score, mean_squared_error, make_scorer, accuracy_score\n"
   ]
  },
  {
   "cell_type": "code",
   "execution_count": 8,
   "metadata": {},
   "outputs": [
    {
     "data": {
      "text/plain": [
       "0.9386573963399405"
      ]
     },
     "execution_count": 8,
     "metadata": {},
     "output_type": "execute_result"
    }
   ],
   "source": [
    "r2_score(hERG_act,hERG_pred)"
   ]
  },
  {
   "cell_type": "code",
   "execution_count": 11,
   "metadata": {},
   "outputs": [],
   "source": [
    "#r2_score(hERG_pred,hERG_act)"
   ]
  },
  {
   "cell_type": "code",
   "execution_count": 9,
   "metadata": {},
   "outputs": [
    {
     "data": {
      "text/plain": [
       "0.3488354049234208"
      ]
     },
     "execution_count": 9,
     "metadata": {},
     "output_type": "execute_result"
    }
   ],
   "source": [
    "r2_score(hDAT_act,hDAT_pred)"
   ]
  },
  {
   "cell_type": "code",
   "execution_count": 13,
   "metadata": {},
   "outputs": [],
   "source": [
    "#r2_score(hDAT_pred,hDAT_act)"
   ]
  },
  {
   "cell_type": "code",
   "execution_count": null,
   "metadata": {},
   "outputs": [],
   "source": []
  }
 ],
 "metadata": {
  "kernelspec": {
   "display_name": "Python 3",
   "language": "python",
   "name": "python3"
  },
  "language_info": {
   "codemirror_mode": {
    "name": "ipython",
    "version": 3
   },
   "file_extension": ".py",
   "mimetype": "text/x-python",
   "name": "python",
   "nbconvert_exporter": "python",
   "pygments_lexer": "ipython3",
   "version": "3.7.6"
  }
 },
 "nbformat": 4,
 "nbformat_minor": 4
}
