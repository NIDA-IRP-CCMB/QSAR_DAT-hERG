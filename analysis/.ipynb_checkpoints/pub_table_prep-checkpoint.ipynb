{
 "cells": [
  {
   "cell_type": "code",
   "execution_count": 1,
   "metadata": {},
   "outputs": [],
   "source": [
    "import pandas as pd\n",
    "import numpy as np\n",
    "import statistics as stat\n",
    "import re\n",
    "\n",
    "# columns = ['label', 'random_split', 'label2', 'R2', 'label3', 'RMSE', 'label4', 'MSE']\n",
    "key = 'key'\n",
    "\n"
   ]
  },
  {
   "cell_type": "code",
   "execution_count": 2,
   "metadata": {},
   "outputs": [
    {
     "name": "stdout",
     "output_type": "stream",
     "text": [
      "Average R2 value:          0.7165370056698984\n",
      "R2 Standard Deviation:     0.06256068341460372\n",
      "Average RMSE value:        0.6860375023030412\n",
      "RMSE Standard Deviation:   0.06204444984323711\n"
     ]
    }
   ],
   "source": [
    "#for all DAT regression\n",
    "df = pd.read_csv('table_aDAT', names = [key])\n",
    "\n",
    "split = []\n",
    "R2 = []\n",
    "RMSE = []\n",
    "MSE = []\n",
    "\n",
    "for i in range(len(df)):\n",
    "    parse = df[key][i].split(\"  \")\n",
    "    count = 0\n",
    "    for j in range(len(parse)):\n",
    "        try:\n",
    "            temp = float(parse[j])\n",
    "            if count == 0:\n",
    "                split.append(temp)\n",
    "            if count == 1:\n",
    "                R2.append(temp)\n",
    "            if count == 2:\n",
    "                RMSE.append(temp)\n",
    "            if count == 3:\n",
    "                MSE.append(temp)\n",
    "            count += 1\n",
    "        except ValueError:\n",
    "            continue\n",
    "print(\"Average R2 value:         \", stat.mean(R2))\n",
    "print(\"R2 Standard Deviation:    \", stat.stdev(R2))\n",
    "print(\"Average RMSE value:       \", stat.mean(RMSE))\n",
    "print(\"RMSE Standard Deviation:  \", stat.stdev(RMSE))\n",
    "# print(\"Average MSE value:   \", stat.mean(MSE))"
   ]
  },
  {
   "cell_type": "code",
   "execution_count": 3,
   "metadata": {},
   "outputs": [
    {
     "name": "stdout",
     "output_type": "stream",
     "text": [
      "Average R2 value:          0.7165370056698984\n",
      "R2 Standard Deviation:     0.06256068341460372\n",
      "Average RMSE value:        0.6860375023030412\n",
      "RMSE Standard Deviation:   0.06204444984323711\n"
     ]
    }
   ],
   "source": [
    "#for human DAT regression\n",
    "df = pd.read_csv('table_hDAT', names = [key])\n",
    "\n",
    "split = []\n",
    "R2 = []\n",
    "RMSE = []\n",
    "MSE = []\n",
    "\n",
    "for i in range(len(df)):\n",
    "    parse = df[key][i].split(\"  \")\n",
    "    count = 0\n",
    "    for j in range(len(parse)):\n",
    "        try:\n",
    "            temp = float(parse[j])\n",
    "            if count == 0:\n",
    "                split.append(temp)\n",
    "            if count == 1:\n",
    "                R2.append(temp)\n",
    "            if count == 2:\n",
    "                RMSE.append(temp)\n",
    "            if count == 3:\n",
    "                MSE.append(temp)\n",
    "            count += 1\n",
    "        except ValueError:\n",
    "            continue\n",
    "print(\"Average R2 value:         \", stat.mean(R2))\n",
    "print(\"R2 Standard Deviation:    \", stat.stdev(R2))\n",
    "print(\"Average RMSE value:       \", stat.mean(RMSE))\n",
    "print(\"RMSE Standard Deviation:  \", stat.stdev(RMSE))\n",
    "# print(\"Average MSE value:   \", stat.mean(MSE))"
   ]
  },
  {
   "cell_type": "code",
   "execution_count": 4,
   "metadata": {},
   "outputs": [
    {
     "name": "stdout",
     "output_type": "stream",
     "text": [
      "Average R2 value:          0.6520991661371606\n",
      "R2 Standard Deviation:     0.1068986526145907\n",
      "Average RMSE value:        0.6620311184196082\n",
      "RMSE Standard Deviation:   0.10841807329493788\n"
     ]
    }
   ],
   "source": [
    "#for rat DAT regression\n",
    "df = pd.read_csv('table_rDAT', names = [key])\n",
    "\n",
    "split = []\n",
    "R2 = []\n",
    "RMSE = []\n",
    "MSE = []\n",
    "\n",
    "for i in range(len(df)):\n",
    "    parse = df[key][i].split(\"  \")\n",
    "    count = 0\n",
    "    for j in range(len(parse)):\n",
    "        try:\n",
    "            temp = float(parse[j])\n",
    "            if count == 0:\n",
    "                split.append(temp)\n",
    "            if count == 1:\n",
    "                R2.append(temp)\n",
    "            if count == 2:\n",
    "                RMSE.append(temp)\n",
    "            if count == 3:\n",
    "                MSE.append(temp)\n",
    "            count += 1\n",
    "        except ValueError:\n",
    "            continue\n",
    "print(\"Average R2 value:         \", stat.mean(R2))\n",
    "print(\"R2 Standard Deviation:    \", stat.stdev(R2))\n",
    "print(\"Average RMSE value:       \", stat.mean(RMSE))\n",
    "print(\"RMSE Standard Deviation:  \", stat.stdev(RMSE))\n",
    "# print(\"Average MSE value:   \", stat.mean(MSE))"
   ]
  },
  {
   "cell_type": "code",
   "execution_count": 5,
   "metadata": {},
   "outputs": [
    {
     "name": "stdout",
     "output_type": "stream",
     "text": [
      "Average Accuracy:                 0.86858\n",
      "Accuracy Standard Deviation:      0.016419363879398075\n",
      "Average Sensitivity:              0.73146\n",
      "Sensitivity Standard Deviation:   0.03681404456930834\n",
      "Average Specificity:              0.94804\n",
      "Specificity Standard Deviation:   0.014989737986301113\n"
     ]
    }
   ],
   "source": [
    "#for herg classifier\n",
    "df = pd.read_csv('table_hERG_classification', names = [key])\n",
    "\n",
    "accuracy = []\n",
    "sensitivity = []\n",
    "specificity = []\n",
    "\n",
    "for i in range(len(df)):\n",
    "    parse = re.split(' |\\t',df[key][i])\n",
    "    count = 0\n",
    "    for j in range(len(parse)):\n",
    "        try:\n",
    "            temp = float(parse[j])\n",
    "            if count == 0:\n",
    "                accuracy.append(temp)\n",
    "            if count == 1:\n",
    "                sensitivity.append(temp)\n",
    "            if count == 2:\n",
    "                specificity.append(temp)\n",
    "            count += 1\n",
    "        except ValueError:\n",
    "            continue\n",
    "\n",
    "print(\"Average Accuracy:                \", stat.mean(accuracy))\n",
    "print(\"Accuracy Standard Deviation:     \", stat.stdev(accuracy))\n",
    "print(\"Average Sensitivity:             \", stat.mean(sensitivity))\n",
    "print(\"Sensitivity Standard Deviation:  \", stat.stdev(sensitivity))\n",
    "print(\"Average Specificity:             \", stat.mean(specificity))\n",
    "print(\"Specificity Standard Deviation:  \", stat.stdev(specificity))"
   ]
  },
  {
   "cell_type": "code",
   "execution_count": 6,
   "metadata": {},
   "outputs": [
    {
     "name": "stdout",
     "output_type": "stream",
     "text": [
      "Average Accuracy:                 0.95838\n",
      "Accuracy Standard Deviation:      0.014180886820661402\n",
      "Average Sensitivity:              0.99434\n",
      "Sensitivity Standard Deviation:   0.006042738938391355\n",
      "Average Specificity:              0.65402\n",
      "Specificity Standard Deviation:   0.12679366011318532\n"
     ]
    }
   ],
   "source": [
    "#for all DAT classifier\n",
    "df = pd.read_csv('table_aDAT_classification', names = [key])\n",
    "\n",
    "accuracy = []\n",
    "sensitivity = []\n",
    "specificity = []\n",
    "\n",
    "for i in range(len(df)):\n",
    "    parse = re.split(' |\\t',df[key][i])\n",
    "    count = 0\n",
    "    for j in range(len(parse)):\n",
    "        try:\n",
    "            temp = float(parse[j])\n",
    "            if count == 0:\n",
    "                accuracy.append(temp)\n",
    "            if count == 1:\n",
    "                sensitivity.append(temp)\n",
    "            if count == 2:\n",
    "                specificity.append(temp)\n",
    "            count += 1\n",
    "        except ValueError:\n",
    "            continue\n",
    "\n",
    "print(\"Average Accuracy:                \", stat.mean(accuracy))\n",
    "print(\"Accuracy Standard Deviation:     \", stat.stdev(accuracy))\n",
    "print(\"Average Sensitivity:             \", stat.mean(sensitivity))\n",
    "print(\"Sensitivity Standard Deviation:  \", stat.stdev(sensitivity))\n",
    "print(\"Average Specificity:             \", stat.mean(specificity))\n",
    "print(\"Specificity Standard Deviation:  \", stat.stdev(specificity))"
   ]
  },
  {
   "cell_type": "code",
   "execution_count": 7,
   "metadata": {},
   "outputs": [
    {
     "name": "stdout",
     "output_type": "stream",
     "text": [
      "Average Accuracy:                 0.94914\n",
      "Accuracy Standard Deviation:      0.018920898714470846\n",
      "Average Sensitivity:              0.9926\n",
      "Sensitivity Standard Deviation:   0.011286618408630685\n",
      "Average Specificity:              0.66478\n",
      "Specificity Standard Deviation:   0.11708139328288344\n"
     ]
    }
   ],
   "source": [
    "#for human DAT classifier\n",
    "df = pd.read_csv('table_hDAT_classification', names = [key])\n",
    "\n",
    "accuracy = []\n",
    "sensitivity = []\n",
    "specificity = []\n",
    "\n",
    "for i in range(len(df)):\n",
    "    parse = re.split(' |\\t',df[key][i])\n",
    "    count = 0\n",
    "    for j in range(len(parse)):\n",
    "        try:\n",
    "            temp = float(parse[j])\n",
    "            if count == 0:\n",
    "                accuracy.append(temp)\n",
    "            if count == 1:\n",
    "                sensitivity.append(temp)\n",
    "            if count == 2:\n",
    "                specificity.append(temp)\n",
    "            count += 1\n",
    "        except ValueError:\n",
    "            continue\n",
    "\n",
    "print(\"Average Accuracy:                \", stat.mean(accuracy))\n",
    "print(\"Accuracy Standard Deviation:     \", stat.stdev(accuracy))\n",
    "print(\"Average Sensitivity:             \", stat.mean(sensitivity))\n",
    "print(\"Sensitivity Standard Deviation:  \", stat.stdev(sensitivity))\n",
    "print(\"Average Specificity:             \", stat.mean(specificity))\n",
    "print(\"Specificity Standard Deviation:  \", stat.stdev(specificity))"
   ]
  },
  {
   "cell_type": "code",
   "execution_count": 8,
   "metadata": {},
   "outputs": [
    {
     "name": "stdout",
     "output_type": "stream",
     "text": [
      "Average Accuracy:                 0.9779599999999999\n",
      "Accuracy Standard Deviation:      0.0153050078505737\n",
      "Average Sensitivity:              0.99732\n",
      "Sensitivity Standard Deviation:   0.005690808916353547\n",
      "Average Specificity:              0.65554\n",
      "Specificity Standard Deviation:   0.2510524955267405\n"
     ]
    }
   ],
   "source": [
    "#for rat DAT classifier\n",
    "df = pd.read_csv('table_rDAT_classification', names = [key])\n",
    "\n",
    "accuracy = []\n",
    "sensitivity = []\n",
    "specificity = []\n",
    "\n",
    "for i in range(len(df)):\n",
    "    parse = re.split(' |\\t',df[key][i])\n",
    "    count = 0\n",
    "    for j in range(len(parse)):\n",
    "        try:\n",
    "            temp = float(parse[j])\n",
    "            if count == 0:\n",
    "                accuracy.append(temp)\n",
    "            if count == 1:\n",
    "                sensitivity.append(temp)\n",
    "            if count == 2:\n",
    "                specificity.append(temp)\n",
    "            count += 1\n",
    "        except ValueError:\n",
    "            continue\n",
    "\n",
    "print(\"Average Accuracy:                \", stat.mean(accuracy))\n",
    "print(\"Accuracy Standard Deviation:     \", stat.stdev(accuracy))\n",
    "print(\"Average Sensitivity:             \", stat.mean(sensitivity))\n",
    "print(\"Sensitivity Standard Deviation:  \", stat.stdev(sensitivity))\n",
    "print(\"Average Specificity:             \", stat.mean(specificity))\n",
    "print(\"Specificity Standard Deviation:  \", stat.stdev(specificity))"
   ]
  },
  {
   "cell_type": "code",
   "execution_count": 9,
   "metadata": {},
   "outputs": [
    {
     "name": "stdout",
     "output_type": "stream",
     "text": [
      "Average R2 value:          0.6703546789138207\n",
      "R2 Standard Deviation:     0.06013754047298376\n",
      "Average RMSE value:        0.5940392215783361\n",
      "RMSE Standard Deviation:   0.050338284268899615\n"
     ]
    }
   ],
   "source": [
    "#for hERG regression\n",
    "df = pd.read_csv('table_hERG_0.85', names = [key])\n",
    "\n",
    "split = []\n",
    "R2 = []\n",
    "RMSE = []\n",
    "MSE = []\n",
    "\n",
    "for i in range(len(df)):\n",
    "    parse = df[key][i].split(\"  \")\n",
    "    count = 0\n",
    "    for j in range(len(parse)):\n",
    "        try:\n",
    "            temp = float(parse[j])\n",
    "            if count == 0:\n",
    "                split.append(temp)\n",
    "            if count == 1:\n",
    "                R2.append(temp)\n",
    "            if count == 2:\n",
    "                RMSE.append(temp)\n",
    "            if count == 3:\n",
    "                MSE.append(temp)\n",
    "            count += 1\n",
    "        except ValueError:\n",
    "            continue\n",
    "print(\"Average R2 value:         \", stat.mean(R2))\n",
    "print(\"R2 Standard Deviation:    \", stat.stdev(R2))\n",
    "print(\"Average RMSE value:       \", stat.mean(RMSE))\n",
    "print(\"RMSE Standard Deviation:  \", stat.stdev(RMSE))"
   ]
  },
  {
   "cell_type": "code",
   "execution_count": 10,
   "metadata": {},
   "outputs": [
    {
     "name": "stdout",
     "output_type": "stream",
     "text": [
      "Average R2 value:          0.6847079801092533\n",
      "R2 Standard Deviation:     0.05647190414794507\n",
      "Average RMSE value:        0.5959854106053714\n",
      "RMSE Standard Deviation:   0.051347846279654503\n"
     ]
    }
   ],
   "source": [
    "#for hERG regression run 2\n",
    "df = pd.read_csv('table_hERG_0.85_run2', names = [key])\n",
    "\n",
    "split = []\n",
    "R2 = []\n",
    "RMSE = []\n",
    "MSE = []\n",
    "\n",
    "for i in range(len(df)):\n",
    "    parse = df[key][i].split(\"  \")\n",
    "    count = 0\n",
    "    for j in range(len(parse)):\n",
    "        try:\n",
    "            temp = float(parse[j])\n",
    "            if count == 0:\n",
    "                split.append(temp)\n",
    "            if count == 1:\n",
    "                R2.append(temp)\n",
    "            if count == 2:\n",
    "                RMSE.append(temp)\n",
    "            if count == 3:\n",
    "                MSE.append(temp)\n",
    "            count += 1\n",
    "        except ValueError:\n",
    "            continue\n",
    "print(\"Average R2 value:         \", stat.mean(R2))\n",
    "print(\"R2 Standard Deviation:    \", stat.stdev(R2))\n",
    "print(\"Average RMSE value:       \", stat.mean(RMSE))\n",
    "print(\"RMSE Standard Deviation:  \", stat.stdev(RMSE))"
   ]
  },
  {
   "cell_type": "code",
   "execution_count": 11,
   "metadata": {},
   "outputs": [
    {
     "name": "stdout",
     "output_type": "stream",
     "text": [
      "Average R2 value:          0.6775313295115369\n",
      "R2 Standard Deviation:     0.058484636526984754\n",
      "Average RMSE value:        0.5950123160918537\n",
      "RMSE Standard Deviation:   0.05059757611347264\n"
     ]
    }
   ],
   "source": [
    "#for both hERG regression runs\n",
    "df1 = pd.read_csv('table_hERG_0.85', names = [key])\n",
    "df2 = pd.read_csv('table_hERG_0.85_run2', names = [key])\n",
    "\n",
    "df = pd.concat([df1,df2])\n",
    "df = df.reset_index(drop=True)\n",
    "\n",
    "split = []\n",
    "R2 = []\n",
    "RMSE = []\n",
    "MSE = []\n",
    "\n",
    "for i in range(len(df)):\n",
    "    parse = df[key][i].split(\"  \")\n",
    "    count = 0\n",
    "    for j in range(len(parse)):\n",
    "        try:\n",
    "            temp = float(parse[j])\n",
    "            if count == 0:\n",
    "                split.append(temp)\n",
    "            if count == 1:\n",
    "                R2.append(temp)\n",
    "            if count == 2:\n",
    "                RMSE.append(temp)\n",
    "            if count == 3:\n",
    "                MSE.append(temp)\n",
    "            count += 1\n",
    "        except ValueError:\n",
    "            continue\n",
    "print(\"Average R2 value:         \", stat.mean(R2))\n",
    "print(\"R2 Standard Deviation:    \", stat.stdev(R2))\n",
    "print(\"Average RMSE value:       \", stat.mean(RMSE))\n",
    "print(\"RMSE Standard Deviation:  \", stat.stdev(RMSE))"
   ]
  },
  {
   "cell_type": "code",
   "execution_count": null,
   "metadata": {},
   "outputs": [],
   "source": []
  }
 ],
 "metadata": {
  "kernelspec": {
   "display_name": "Python 3",
   "language": "python",
   "name": "python3"
  },
  "language_info": {
   "codemirror_mode": {
    "name": "ipython",
    "version": 3
   },
   "file_extension": ".py",
   "mimetype": "text/x-python",
   "name": "python",
   "nbconvert_exporter": "python",
   "pygments_lexer": "ipython3",
   "version": "3.7.6"
  }
 },
 "nbformat": 4,
 "nbformat_minor": 4
}
